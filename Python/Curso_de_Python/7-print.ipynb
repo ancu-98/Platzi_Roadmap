{
 "cells": [
  {
   "cell_type": "markdown",
   "metadata": {},
   "source": [
    "# Clase 7: Todo lo que debes saber sobre print en Python\n",
    "\n",
    "La función incorporada print() puede parecer básico al principio, pero ten en cuenta que será una herramienta que usarás de múltiples maneras a lo largo de tu código. Desde el icónico “Hola mundo” hasta mensajes de depuración y presentación de resultados, print es la puerta de entrada a la comunicación de tus programas con el mundo exterior.\n",
    "\n",
    "Iniciar con un simple “Hola mundo” no solo es una tradición en la programación, sino también un momento crucial donde tu código cobra vida. Es la primera línea de código que demuestra que tu entorno de desarrollo está configurado correctamente y que estás listo para empezar a crear.\n",
    "\n",
    "Aprenderás a aprovechar al máximo la función incorporada print en Python. Desde formatos avanzados hasta el manejo de caracteres especiales y secuencias de escape, descubrirás cómo print puede ser una herramienta poderosa y versátil en tu caja de herramientas de programación.\n"
   ]
  },
  {
   "cell_type": "markdown",
   "metadata": {},
   "source": [
    "### 1. Uso básico de print\n",
    "\n",
    "El uso más sencillo de print consiste en pasar el texto que deseas mostrar entre comillas.\n",
    "\n",
    "Este código imprimirá “Nunca pares de aprender” en la consola, siendo una excelente forma de probar si tu entorno de Python está configurado correctamente."
   ]
  },
  {
   "cell_type": "code",
   "execution_count": 1,
   "metadata": {},
   "outputs": [
    {
     "name": "stdout",
     "output_type": "stream",
     "text": [
      "Nunca pares de aprender\n"
     ]
    }
   ],
   "source": [
    "print(\"Nunca pares de aprender\")"
   ]
  },
  {
   "cell_type": "markdown",
   "metadata": {},
   "source": [
    "### 2. Uso de la coma en print\n",
    "\n",
    "La coma dentro de la función print se usa para separar varios argumentos.\n",
    "\n",
    "Al hacerlo, Python añade automáticamente un espacio entre los argumentos.\n",
    "\n",
    "Esto es diferente a concatenar cadenas con el operador +, que no añade espacios adicionales."
   ]
  },
  {
   "cell_type": "code",
   "execution_count": 2,
   "metadata": {},
   "outputs": [
    {
     "name": "stdout",
     "output_type": "stream",
     "text": [
      "Nunca pares de aprender\n"
     ]
    }
   ],
   "source": [
    "print(\"Nunca\", \"pares\", \"de\", \"aprender\")"
   ]
  },
  {
   "cell_type": "markdown",
   "metadata": {},
   "source": [
    "Por otro lado, al concatenar cadenas con el operador +, los elementos se unen sin ningún espacio adicional, a menos que lo añadas explícitamente."
   ]
  },
  {
   "cell_type": "code",
   "execution_count": 3,
   "metadata": {},
   "outputs": [
    {
     "name": "stdout",
     "output_type": "stream",
     "text": [
      "Nuncaparesdeaprender\n"
     ]
    }
   ],
   "source": [
    "print(\"Nunca\" + \"pares\" + \"de\" + \"aprender\")"
   ]
  },
  {
   "cell_type": "markdown",
   "metadata": {},
   "source": [
    "Para añadir un espacio explícitamente cuando concatenas cadenas, debes incluirlo dentro de las comillas."
   ]
  },
  {
   "cell_type": "code",
   "execution_count": 4,
   "metadata": {},
   "outputs": [
    {
     "name": "stdout",
     "output_type": "stream",
     "text": [
      "Nunca pares de aprender\n"
     ]
    }
   ],
   "source": [
    "print(\"Nunca\" + \" \" + \"pares\" + \" \" + \"de\" + \" \" + \"aprender\")"
   ]
  },
  {
   "cell_type": "markdown",
   "metadata": {},
   "source": [
    "### 3. Uso de sep\n",
    "\n",
    "El parámetro sep permite especificar cómo separar los elementos al imprimir.\n",
    "\n",
    "En este ejemplo, los elementos “Nunca”, “pares”, “de” y “aprender” se imprimirán con una coma y un espacio entre ellos, resultando en “Nunca, pares, de, aprender”.\n",
    "\n",
    "Puedes cambiar sep por cualquier cadena de caracteres que desees usar como separador."
   ]
  },
  {
   "cell_type": "code",
   "execution_count": 5,
   "metadata": {},
   "outputs": [
    {
     "name": "stdout",
     "output_type": "stream",
     "text": [
      "Nunca, pares, de, aprender\n"
     ]
    }
   ],
   "source": [
    "print(\"Nunca\", \"pares\", \"de\", \"aprender\", sep=\", \")"
   ]
  },
  {
   "cell_type": "markdown",
   "metadata": {},
   "source": [
    "### 4. Uso de end\n",
    "\n",
    "El parámetro end cambia lo que se imprime al final de la llamada a print.\n",
    "\n",
    "En lugar de imprimir cada mensaje en una nueva línea, end=\"\" asegura que “Nunca” y “pares” se impriman en la misma línea, resultando en “Nunca pares”.\n",
    "\n",
    "Por defecto, end es un salto de línea (\"\\n\"), lo que hace que cada llamada a print comience en una nueva línea."
   ]
  },
  {
   "cell_type": "code",
   "execution_count": 6,
   "metadata": {},
   "outputs": [
    {
     "name": "stdout",
     "output_type": "stream",
     "text": [
      "Nunca pares de aprender\n"
     ]
    }
   ],
   "source": [
    "print(\"Nunca\", end=\" \")\n",
    "print(\"pares de aprender\")"
   ]
  },
  {
   "cell_type": "markdown",
   "metadata": {},
   "source": [
    "### 5. Impresión de variables\n",
    "\n",
    "Puedes usar print para mostrar el valor de las variables.\n",
    "\n",
    "En este ejemplo, imprimirá “Frase: Nunca pares de aprender” y “Autor: Platzi”.\n",
    "\n",
    "Esto es útil para depurar y ver los valores de las variables en diferentes puntos de tu programa."
   ]
  },
  {
   "cell_type": "code",
   "execution_count": 7,
   "metadata": {},
   "outputs": [
    {
     "name": "stdout",
     "output_type": "stream",
     "text": [
      "Frase: Nunca pares de aprender Autor: Platzi\n"
     ]
    }
   ],
   "source": [
    "frase = \"Nunca pares de aprender\"\n",
    "author = \"Platzi\"\n",
    "print(\"Frase:\", frase, \"Autor:\", author)"
   ]
  },
  {
   "cell_type": "markdown",
   "metadata": {},
   "source": [
    "### 6. Uso de formato con f-strings\n",
    "\n",
    "Las f-strings permiten insertar expresiones dentro de cadenas de texto.\n",
    "\n",
    "Al anteponer una f a la cadena de texto, puedes incluir variables directamente dentro de las llaves {}.\n",
    "\n",
    "En este ejemplo, frase y author se insertarán en la cadena, resultando en “Frase: Nunca pares de aprender, Autor: Platzi”.\n",
    "\n",
    "Esto hace que el código sea más legible y fácil de escribir."
   ]
  },
  {
   "cell_type": "code",
   "execution_count": 8,
   "metadata": {},
   "outputs": [
    {
     "name": "stdout",
     "output_type": "stream",
     "text": [
      "Frase: Nunca pares de aprender, Autor: Platzi\n"
     ]
    }
   ],
   "source": [
    "frase = \"Nunca pares de aprender\"\n",
    "author = \"Platzi\"\n",
    "print(f\"Frase: {frase}, Autor: {author}\")"
   ]
  },
  {
   "cell_type": "markdown",
   "metadata": {},
   "source": [
    "### 7. Uso de formato con format\n",
    "\n",
    "El método format es otra forma de insertar valores en cadenas de texto.\n",
    "\n",
    "Usando {} como marcadores de posición, puedes pasar los valores que quieres insertar como argumentos de format.\n",
    "\n",
    "En este ejemplo, se imprimirá “Frase: Nunca pares de aprender, Autor: Platzi”.\n",
    "\n",
    "Es una forma flexible y poderosa de formatear cadenas, aunque las f-strings son más concisas."
   ]
  },
  {
   "cell_type": "code",
   "execution_count": 9,
   "metadata": {},
   "outputs": [
    {
     "name": "stdout",
     "output_type": "stream",
     "text": [
      "Frase: Nunca pares de aprender, Autor: Platzi\n"
     ]
    }
   ],
   "source": [
    "frase = \"Nunca pares de aprender\"\n",
    "author = \"Platzi\"\n",
    "print(\"Frase: {}, Autor: {}\".format(frase, author))"
   ]
  },
  {
   "cell_type": "markdown",
   "metadata": {},
   "source": [
    "### 8. Impresión con formato específico\n",
    "\n",
    "Puedes controlar el formato de los números al imprimir.\n",
    "\n",
    "En este ejemplo, :.2f indica que el número debe mostrarse con dos decimales.\n",
    "Así, imprimirá “Valor: 3.14”, redondeando el número a dos decimales.\n",
    "\n",
    "Esto es especialmente útil cuando trabajas con datos numéricos y necesitas un formato específico."
   ]
  },
  {
   "cell_type": "code",
   "execution_count": 10,
   "metadata": {},
   "outputs": [
    {
     "name": "stdout",
     "output_type": "stream",
     "text": [
      "Valor: 3.14\n"
     ]
    }
   ],
   "source": [
    "valor = 3.14159\n",
    "print(\"Valor: {:.2f}\".format(valor))"
   ]
  },
  {
   "cell_type": "markdown",
   "metadata": {},
   "source": [
    "### 9. Saltos de línea y caracteres especiales\n",
    "\n",
    "Los saltos de línea en Python se indican con la secuencia de escape \\n. Por ejemplo, para imprimir “Hola\\nmundo”, que aparecerá en dos líneas:\n",
    "\n"
   ]
  },
  {
   "cell_type": "code",
   "execution_count": 11,
   "metadata": {},
   "outputs": [
    {
     "name": "stdout",
     "output_type": "stream",
     "text": [
      "Hola\n",
      "mundo\n"
     ]
    }
   ],
   "source": [
    "print(\"Hola\\nmundo\")"
   ]
  },
  {
   "cell_type": "markdown",
   "metadata": {},
   "source": [
    "Para imprimir una cadena que contenga comillas simples o dobles dentro de ellas, debes usar secuencias de escape para evitar confusiones con la sintaxis de Python.\n",
    "\n",
    "Por ejemplo, para imprimir la frase “Hola soy ‘Sebas’”:"
   ]
  },
  {
   "cell_type": "code",
   "execution_count": 12,
   "metadata": {},
   "outputs": [
    {
     "name": "stdout",
     "output_type": "stream",
     "text": [
      "Hola soy 'Sebas'\n"
     ]
    }
   ],
   "source": [
    "print('Hola soy \\'Sebas\\'')"
   ]
  },
  {
   "cell_type": "markdown",
   "metadata": {},
   "source": [
    "Si necesitas imprimir una ruta de archivo en Windows, que incluya barras invertidas, también necesitarás usar secuencias de escape para evitar que Python interprete las barras invertidas como parte de secuencias de escape.\n",
    "\n",
    "Por ejemplo:"
   ]
  },
  {
   "cell_type": "code",
   "execution_count": 13,
   "metadata": {},
   "outputs": [
    {
     "name": "stdout",
     "output_type": "stream",
     "text": [
      "La ruta de archivo es: C:\\Users\\Usuario\\Desktop\\archivo.txt\n"
     ]
    }
   ],
   "source": [
    "print(\"La ruta de archivo es: C:\\\\Users\\\\Usuario\\\\Desktop\\\\archivo.txt\")"
   ]
  },
  {
   "cell_type": "markdown",
   "metadata": {},
   "source": [
    "En Python, estas secuencias de escape te permiten manejar caracteres especiales y estructurar la salida de texto según sea necesario, asegurando que la salida se formatee correctamente en la consola o en cualquier otro medio donde se imprima.\n",
    "\n",
    "Con estos ejemplos y explicaciones adicionales, tendrás una comprensión más completa sobre cómo manejar saltos de línea y caracteres especiales en Python al usar la función print."
   ]
  }
 ],
 "metadata": {
  "kernelspec": {
   "display_name": "python_platzi",
   "language": "python",
   "name": "python3"
  },
  "language_info": {
   "codemirror_mode": {
    "name": "ipython",
    "version": 3
   },
   "file_extension": ".py",
   "mimetype": "text/x-python",
   "name": "python",
   "nbconvert_exporter": "python",
   "pygments_lexer": "ipython3",
   "version": "3.13.0"
  }
 },
 "nbformat": 4,
 "nbformat_minor": 2
}
