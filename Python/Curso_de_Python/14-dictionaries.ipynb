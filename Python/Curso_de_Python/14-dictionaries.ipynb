{
 "cells": [
  {
   "cell_type": "markdown",
   "metadata": {},
   "source": [
    "# Clase 14: Diccionarios"
   ]
  },
  {
   "cell_type": "markdown",
   "metadata": {},
   "source": [
    "Los diccionarios en Python son una estructura que almacenan dos datos, la clave y el valor.\n",
    "\n",
    "Un ejemplo cotidiano es un diccionario físico donde buscamos el significado de una palabra y encontramos la palabra (clave) y su definición (valor).\n",
    "\n",
    "Veamos cómo se utilizan en código."
   ]
  },
  {
   "cell_type": "markdown",
   "metadata": {},
   "source": [
    "## ¿Cómo se crea un diccionario en Python?"
   ]
  },
  {
   "cell_type": "markdown",
   "metadata": {},
   "source": [
    "Iniciamos creando una variable llamada numbers y especificamos el uso de diccionarios utilizando llaves.\n",
    "\n",
    "Asignamos valores a las claves:"
   ]
  },
  {
   "cell_type": "code",
   "execution_count": null,
   "metadata": {},
   "outputs": [],
   "source": [
    "numbers = {1: \"one\", \"2\": \"two\", 3: \"three\"}\n",
    "print(numbers)"
   ]
  },
  {
   "cell_type": "markdown",
   "metadata": {},
   "source": [
    "## ¿Cómo se accede a los elementos de un diccionario?"
   ]
  },
  {
   "cell_type": "markdown",
   "metadata": {},
   "source": [
    "Iniciamos creando una variable llamada numbers y especificamos el uso de diccionarios utilizando llaves. Asignamos valores a las claves:"
   ]
  },
  {
   "cell_type": "code",
   "execution_count": 1,
   "metadata": {},
   "outputs": [
    {
     "name": "stdout",
     "output_type": "stream",
     "text": [
      "{1: 'one', '2': 'two', 3: 'three'}\n"
     ]
    }
   ],
   "source": [
    "numbers = {\n",
    "    1: \"one\",\n",
    "    \"2\": \"two\",\n",
    "    3: \"three\"\n",
    "}\n",
    "\n",
    "print(numbers)"
   ]
  },
  {
   "cell_type": "markdown",
   "metadata": {},
   "source": [
    "## ¿Cómo se accede a los elementos de un diccionario?"
   ]
  },
  {
   "cell_type": "markdown",
   "metadata": {},
   "source": [
    "Para consultar la información de una clave específica, utilizamos la indexación:"
   ]
  },
  {
   "cell_type": "code",
   "execution_count": 2,
   "metadata": {},
   "outputs": [
    {
     "name": "stdout",
     "output_type": "stream",
     "text": [
      "two\n"
     ]
    }
   ],
   "source": [
    "print(numbers[\"2\"])"
   ]
  },
  {
   "cell_type": "markdown",
   "metadata": {},
   "source": [
    "## ¿Cómo se eliminan elementos de un diccionario?"
   ]
  },
  {
   "cell_type": "markdown",
   "metadata": {},
   "source": [
    "Para eliminar un elemento, utilizamos la clave del mismo:"
   ]
  },
  {
   "cell_type": "code",
   "execution_count": 4,
   "metadata": {},
   "outputs": [
    {
     "name": "stdout",
     "output_type": "stream",
     "text": [
      "{'nombre': 'Sebastian', 'Apellido': 'Bernal', 'Altura': 1.77, 'Edad': 'XX'}\n",
      "{'nombre': 'Sebastian', 'Apellido': 'Bernal', 'Altura': 1.77}\n"
     ]
    }
   ],
   "source": [
    "information = {\n",
    "    \"nombre\": \"Sebastian\",\n",
    "    \"Apellido\": \"Bernal\",\n",
    "    \"Altura\": 1.77,\n",
    "    \"Edad\": 'XX'\n",
    "}\n",
    "print(information)\n",
    "\n",
    "del information[\"Edad\"]\n",
    "print(information)"
   ]
  },
  {
   "cell_type": "markdown",
   "metadata": {},
   "source": [
    "## ¿Qué métodos existen para trabajar con diccionarios?"
   ]
  },
  {
   "cell_type": "markdown",
   "metadata": {},
   "source": [
    "Podemos utilizar métodos propios de los diccionarios, como keys(), values(), e items():"
   ]
  },
  {
   "cell_type": "code",
   "execution_count": 5,
   "metadata": {},
   "outputs": [
    {
     "name": "stdout",
     "output_type": "stream",
     "text": [
      "dict_keys(['nombre', 'Apellido', 'Altura'])\n",
      "dict_values(['Sebastian', 'Bernal', 1.77])\n",
      "dict_items([('nombre', 'Sebastian'), ('Apellido', 'Bernal'), ('Altura', 1.77)])\n"
     ]
    }
   ],
   "source": [
    "# Obtener las claves\n",
    "claves = information.keys()\n",
    "print(claves)\n",
    "\n",
    "# Obtener los valores\n",
    "valores = information.values()\n",
    "print(valores)\n",
    "\n",
    "# Obtener los pares clave-valor\n",
    "pares = information.items()\n",
    "print(pares)"
   ]
  },
  {
   "cell_type": "markdown",
   "metadata": {},
   "source": [
    "## ¿Cómo se crea un diccionario de diccionarios?"
   ]
  },
  {
   "cell_type": "markdown",
   "metadata": {},
   "source": [
    "Podemos crear una agenda de contactos usando diccionarios de diccionarios:"
   ]
  },
  {
   "cell_type": "code",
   "execution_count": 6,
   "metadata": {},
   "outputs": [
    {
     "name": "stdout",
     "output_type": "stream",
     "text": [
      "{'apellido': 'Bernal', 'altura': 1.77, 'edad': 'XX'}\n"
     ]
    }
   ],
   "source": [
    "contactos = {\n",
    "    \"Sebastian\": {\n",
    "        \"apellido\": \"Bernal\",\n",
    "        \"altura\": 1.77,\n",
    "        \"edad\": 'XX'\n",
    "        },\n",
    "    \"Santiago\": {\n",
    "        \"apellido\": \"Antesana\",\n",
    "        \"altura\": 1.75,\n",
    "        \"edad\": 32\n",
    "        }\n",
    "}\n",
    "\n",
    "print(contactos[\"Sebastian\"])"
   ]
  }
 ],
 "metadata": {
  "kernelspec": {
   "display_name": "python_platzi",
   "language": "python",
   "name": "python3"
  },
  "language_info": {
   "codemirror_mode": {
    "name": "ipython",
    "version": 3
   },
   "file_extension": ".py",
   "mimetype": "text/x-python",
   "name": "python",
   "nbconvert_exporter": "python",
   "pygments_lexer": "ipython3",
   "version": "3.13.0"
  }
 },
 "nbformat": 4,
 "nbformat_minor": 2
}
