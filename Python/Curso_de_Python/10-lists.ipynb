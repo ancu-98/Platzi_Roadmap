{
 "cells": [
  {
   "cell_type": "markdown",
   "metadata": {},
   "source": [
    "# Clase 10: Listas\n",
    "\n",
    "Listas en Python nos facilita la tarea de permitir la manipulación y almacenamiento de datos diversos de manera estructurada y eficiente."
   ]
  },
  {
   "cell_type": "markdown",
   "metadata": {},
   "source": [
    "## ¿Cómo crear una lista en Python?\n",
    "\n",
    "Para iniciar, se crea una variable llamada: todo ,utilizando corchetes para indicar que se trata de una lista. Dentro de los corchetes, se añaden los elementos separados por comas, por ejemplo:"
   ]
  },
  {
   "cell_type": "code",
   "execution_count": 1,
   "metadata": {},
   "outputs": [],
   "source": [
    "todo = [\"Dirigirnos al hotel\", \"Almorzar\", \"Visitar un museo\", \"Volver al hotel\"]"
   ]
  },
  {
   "cell_type": "markdown",
   "metadata": {},
   "source": [
    "## ¿Qué tipos de datos se pueden almacenar en una lista?\n",
    "\n",
    "Las listas en Python pueden almacenar múltiples tipos de datos, incluyendo cadenas, números enteros, números flotantes y valores booleanos. También pueden contener otras listas. Ejemplo:"
   ]
  },
  {
   "cell_type": "code",
   "execution_count": 2,
   "metadata": {},
   "outputs": [
    {
     "name": "stdout",
     "output_type": "stream",
     "text": [
      "['string', 1, 2.5, True, [3, 4]]\n"
     ]
    }
   ],
   "source": [
    "mix = [\"string\", 1, 2.5, True, [3, 4]]\n",
    "print(mix)"
   ]
  },
  {
   "cell_type": "markdown",
   "metadata": {},
   "source": [
    "## ¿Cómo se determina la longitud de una lista?\n",
    "\n",
    "Para saber cuántos elementos hay en una lista, se usa la función len:"
   ]
  },
  {
   "cell_type": "code",
   "execution_count": 3,
   "metadata": {},
   "outputs": [
    {
     "name": "stdout",
     "output_type": "stream",
     "text": [
      "5\n"
     ]
    }
   ],
   "source": [
    "print(len(mix))"
   ]
  },
  {
   "cell_type": "markdown",
   "metadata": {},
   "source": [
    "## ¿Cómo se accede a elementos específicos de una lista?\n",
    "\n",
    "Se puede acceder a los elementos de una lista utilizando índices, donde el índice comienza en 0:"
   ]
  },
  {
   "cell_type": "code",
   "execution_count": null,
   "metadata": {},
   "outputs": [],
   "source": [
    "print(mix[0])  # Primer elemento\n",
    "print(mix[-1])  # Último elemento"
   ]
  },
  {
   "cell_type": "markdown",
   "metadata": {},
   "source": [
    "## ¿Cómo se realizan operaciones de slicing en listas?\n",
    "\n",
    "El slicing permite obtener sublistas a partir de una lista existente, especificando un rango de índices:"
   ]
  },
  {
   "cell_type": "code",
   "execution_count": 4,
   "metadata": {},
   "outputs": [
    {
     "name": "stdout",
     "output_type": "stream",
     "text": [
      "[1, 2.5]\n",
      "['string', 1]\n",
      "[2.5, True, [3, 4]]\n"
     ]
    }
   ],
   "source": [
    "print(mix[1:3])  # Desde el índice 1 hasta el 2 (el 3 no se incluye)\n",
    "print(mix[:2])  # Desde el inicio hasta el índice 1\n",
    "print(mix[2:])  # Desde el índice 2 hasta el final"
   ]
  },
  {
   "cell_type": "markdown",
   "metadata": {},
   "source": [
    "## ¿Qué métodos de manipulación de listas existen?\n",
    "\n",
    "* Añadir elementos al final: append()"
   ]
  },
  {
   "cell_type": "code",
   "execution_count": 5,
   "metadata": {},
   "outputs": [
    {
     "name": "stdout",
     "output_type": "stream",
     "text": [
      "['string', 1, 2.5, True, [3, 4], False]\n"
     ]
    }
   ],
   "source": [
    "mix.append(False)\n",
    "print(mix)"
   ]
  },
  {
   "cell_type": "markdown",
   "metadata": {},
   "source": [
    "* Insertar elementos en una posición específica: insert()"
   ]
  },
  {
   "cell_type": "code",
   "execution_count": 6,
   "metadata": {},
   "outputs": [
    {
     "name": "stdout",
     "output_type": "stream",
     "text": [
      "['string', ['A', 'B'], 1, 2.5, True, [3, 4], False]\n"
     ]
    }
   ],
   "source": [
    "mix.insert(1, [\"A\", \"B\"])\n",
    "print(mix)"
   ]
  },
  {
   "cell_type": "markdown",
   "metadata": {},
   "source": [
    "* Encontrar la primera aparición de un elemento: index()"
   ]
  },
  {
   "cell_type": "code",
   "execution_count": 7,
   "metadata": {},
   "outputs": [
    {
     "name": "stdout",
     "output_type": "stream",
     "text": [
      "1\n"
     ]
    }
   ],
   "source": [
    "print(mix.index([\"A\", \"B\"]))"
   ]
  },
  {
   "cell_type": "markdown",
   "metadata": {},
   "source": [
    "* Encontrar el mayor y menor elemento: max() y min()"
   ]
  },
  {
   "cell_type": "code",
   "execution_count": 8,
   "metadata": {},
   "outputs": [
    {
     "name": "stdout",
     "output_type": "stream",
     "text": [
      "100\n",
      "1\n"
     ]
    }
   ],
   "source": [
    "numbers = [1, 2, 3.5, 90, 100]\n",
    "print(max(numbers))\n",
    "print(min(numbers))"
   ]
  },
  {
   "cell_type": "markdown",
   "metadata": {},
   "source": [
    "## ¿Cómo se eliminan elementos de una lista?\n",
    "\n",
    "* Eliminar por índice: del"
   ]
  },
  {
   "cell_type": "code",
   "execution_count": 9,
   "metadata": {},
   "outputs": [
    {
     "name": "stdout",
     "output_type": "stream",
     "text": [
      "[1, 2, 3.5, 90]\n"
     ]
    }
   ],
   "source": [
    "del numbers[-1]\n",
    "print(numbers)"
   ]
  },
  {
   "cell_type": "markdown",
   "metadata": {},
   "source": [
    "* Eliminar una porción de la lista:"
   ]
  },
  {
   "cell_type": "code",
   "execution_count": 10,
   "metadata": {},
   "outputs": [
    {
     "name": "stdout",
     "output_type": "stream",
     "text": [
      "[3.5, 90]\n"
     ]
    }
   ],
   "source": [
    "del numbers[0:2]\n",
    "print(numbers)"
   ]
  },
  {
   "cell_type": "markdown",
   "metadata": {},
   "source": [
    "* Eliminar toda la lista:"
   ]
  },
  {
   "cell_type": "code",
   "execution_count": 11,
   "metadata": {},
   "outputs": [],
   "source": [
    "del numbers"
   ]
  },
  {
   "cell_type": "markdown",
   "metadata": {},
   "source": [
    "## Código de la clase"
   ]
  },
  {
   "cell_type": "code",
   "execution_count": 24,
   "metadata": {},
   "outputs": [
    {
     "name": "stdout",
     "output_type": "stream",
     "text": [
      "**** Crear lista **** \n",
      " ['Dirigirnos al hotel', 'Ir a almorzar', 'Visitar un museo', 'Volver al hotel']\n",
      "**** Multiples datos ****\n",
      "[1, 2, 3, 4, 'cinco']\n",
      "<class 'list'>\n",
      "['uno', 2, 3.14, True, [1, 2, 3]]\n",
      "<class 'list'>\n",
      "**** Longitud lista **** \n",
      " ['uno', 2, 3.14, True, [1, 2, 3]] \n",
      " 5\n",
      "**** Accediendo a elementos de la lista ****\n",
      "['uno', 2, 3.14, True, [1, 2, 3]]\n",
      "Primer elemento uno\n",
      "Segundo elemento 2\n",
      "Ultimo elemento: [1, 2, 3]\n",
      "Hola mundo\n",
      "Primer elemento H\n",
      "Segundo elemento o\n",
      "Ultimo elemento: o\n",
      "**** Slicing ****\n",
      "['uno', 2, 3.14, True, [1, 2, 3]]\n",
      "[3.14]\n",
      "[2, 3.14]\n",
      "['uno', 2]\n",
      "[3.14, True, [1, 2, 3]]\n"
     ]
    }
   ],
   "source": [
    "# Crear Lista\n",
    "to_do = [\"Dirigirnos al hotel\",\n",
    "         \"Ir a almorzar\",\n",
    "         \"Visitar un museo\",\n",
    "         \"Volver al hotel\"]\n",
    "print('**** Crear lista **** \\n',to_do)\n",
    "# Multiples datos en una lista\n",
    "print('**** Multiples datos ****')\n",
    "numbers = [1,2,3,4, \"cinco\"]\n",
    "print(numbers)\n",
    "print(type(numbers))\n",
    "mix = [\"uno\", 2, 3.14, True, [1,2,3]]\n",
    "print(mix)\n",
    "print(type(mix))\n",
    "# Longitud de la lista\n",
    "print('**** Longitud lista **** \\n', mix , '\\n', len(mix))\n",
    "# Acceder a elementos específicos de la lista\n",
    "print('**** Accediendo a elementos de la lista ****')\n",
    "print(mix)\n",
    "print(\"Primer elemento\", mix[0])\n",
    "print(\"Segundo elemento\", mix[1])\n",
    "print(\"Ultimo elemento:\", mix[-1])\n",
    "string = \"Hola mundo\"\n",
    "print(string)\n",
    "print(\"Primer elemento\", string[0])\n",
    "print(\"Segundo elemento\", string[1])\n",
    "print(\"Ultimo elemento:\", string[-1])\n",
    "# Slicing\n",
    "print('**** Slicing ****')\n",
    "print(mix)\n",
    "print(mix[2:-2]) # Desde el índice 2 hasta el indice -2\n",
    "print(mix[1:3])  # Desde el índice 1 hasta el 2 (el 3 no se incluye)\n",
    "print(mix[:2])  # Desde el inicio hasta el índice 1\n",
    "print(mix[2:])  # Desde el índice 2 hasta el final\n"
   ]
  },
  {
   "cell_type": "code",
   "execution_count": null,
   "metadata": {},
   "outputs": [
    {
     "name": "stdout",
     "output_type": "stream",
     "text": [
      "**** Manipular Listas ****\n",
      "['uno', 2, 3.14, True, [1, 2, 3], False]\n",
      "['uno', 2, 3.14, True, [1, 2, 3], False, ['a', 'b']]\n",
      "['uno', ['a', 'b'], 2, 3.14, True, [1, 2, 3], False, ['a', 'b']]\n",
      "1\n",
      "[1, 2, 100.01, 90.45, 3, 4, 5]\n",
      "Mayor: 100.01\n",
      "Menor: 1\n",
      "[1, 2, 100.01, 90.45, 3, 4]\n",
      "[100.01, 90.45, 3, 4]\n"
     ]
    }
   ],
   "source": [
    "# Métodos para manipular listas\n",
    "print('**** Manipular Listas ****')\n",
    "# Agregar elemento al final de al lista\n",
    "mix.append(False)\n",
    "print(mix)\n",
    "mix.append([\"a\",\"b\"])\n",
    "print(mix)\n",
    "# Insertar elemento en el indice 1\n",
    "mix.insert(1,[\"a\",\"b\"])\n",
    "print(mix)\n",
    "print(mix.index([\"a\",\"b\"]))\n",
    "# Encontrar el mayor y menor elemento\n",
    "numbers = [1,2,100.01,90.45,3,4, 5]\n",
    "print(numbers)\n",
    "print(\"Mayor:\",max(numbers))\n",
    "print(\"Menor:\",min(numbers))\n",
    "# ELiminar por indice\n",
    "del numbers[-1]\n",
    "print(numbers)\n",
    "# Eliminar por porcion de lista\n",
    "del numbers[:2]\n",
    "print(numbers)\n",
    "# Eliminar lista\n",
    "del numbers\n",
    "#print(numbers)"
   ]
  }
 ],
 "metadata": {
  "kernelspec": {
   "display_name": "python_platzi",
   "language": "python",
   "name": "python3"
  },
  "language_info": {
   "codemirror_mode": {
    "name": "ipython",
    "version": 3
   },
   "file_extension": ".py",
   "mimetype": "text/x-python",
   "name": "python",
   "nbconvert_exporter": "python",
   "pygments_lexer": "ipython3",
   "version": "3.13.0"
  }
 },
 "nbformat": 4,
 "nbformat_minor": 2
}
