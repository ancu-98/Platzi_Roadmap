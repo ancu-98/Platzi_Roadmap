{
 "cells": [
  {
   "cell_type": "markdown",
   "metadata": {},
   "source": [
    "# Clase 5: Manipulacion de Cadenas de Texto"
   ]
  },
  {
   "cell_type": "markdown",
   "metadata": {},
   "source": [
    "En la clase anterior vimos el concepto de variables, y vimos que podíamos guardar información en ellas, pero algo que podemos hacer es guardar y distinguir entre los tipos de datos, en Python hay varios tipos de datos.\n",
    "\n",
    "Entender cómo trabajar con las cadenas en Python es fundamental para la manipulación de textos y datos en muchos proyectos. Desde definir variables hasta aplicar métodos específicos, el uso de strings es una habilidad básica, pero poderosa, que se utiliza en áreas avanzadas como el procesamiento del lenguaje natural (NLP)."
   ]
  },
  {
   "cell_type": "markdown",
   "metadata": {},
   "source": [
    "## Tipos de datos\n",
    "Python tiene incorporados por defecto los siguientes tipos de datos, en estas categorías:\n",
    "\n",
    "* Text Type:\tstr\n",
    "* Numeric Types:\tint, float, complex\n",
    "* Sequence Types:\tlist, tuple, range\n",
    "* Mapping Type:\tdict\n",
    "* Set Types:\tset, frozenset\n",
    "* Boolean Type:\tbool\n",
    "* Binary Types:\tbytes, bytearray, memoryview\n",
    "* None Type:\tNoneType"
   ]
  },
  {
   "cell_type": "markdown",
   "metadata": {},
   "source": [
    "### ¿Cómo se definen las cadenas en Python?\n",
    "Para crear una cadena en Python, puedes utilizar comillas simples, dobles o triples.\n",
    "\n",
    "Por ejemplo:"
   ]
  },
  {
   "cell_type": "code",
   "execution_count": 1,
   "metadata": {},
   "outputs": [],
   "source": [
    "my_name = 'Sebastian'   # Comillas Simples\n",
    "my_name = \"Sebastian\"   # Comillas Dobles\n",
    "my_name = '''Sebastian'''   # Comillas Triples"
   ]
  },
  {
   "cell_type": "markdown",
   "metadata": {},
   "source": [
    "Las comillas triples permiten incluir saltos de línea y espacios en blanco."
   ]
  },
  {
   "cell_type": "markdown",
   "metadata": {},
   "source": [
    "### ¿Cómo se imprime y verifica el tipo de dato de una variable?\n",
    "Para imprimir el valor de una variable y verificar su tipo, puedes utilizar la función print junto con la función type:"
   ]
  },
  {
   "cell_type": "code",
   "execution_count": 2,
   "metadata": {},
   "outputs": [
    {
     "name": "stdout",
     "output_type": "stream",
     "text": [
      "Sebastian\n",
      "<class 'str'>\n"
     ]
    }
   ],
   "source": [
    "print(my_name)\n",
    "print(type(my_name))"
   ]
  },
  {
   "cell_type": "markdown",
   "metadata": {},
   "source": [
    "### ¿Cómo se indexan las cadenas en Python?\n",
    "Las cadenas son colecciones ordenadas y accesibles por índices. Puedes acceder a un carácter específico utilizando corchetes:"
   ]
  },
  {
   "cell_type": "code",
   "execution_count": 4,
   "metadata": {},
   "outputs": [
    {
     "name": "stdout",
     "output_type": "stream",
     "text": [
      "S\n",
      "n\n",
      "n\n",
      "S\n"
     ]
    }
   ],
   "source": [
    "# 0  1  2  3  4  5  6  7  8\n",
    "# S  e  b  a  s  t  i  a  n\n",
    "#-9 -8 -7 -6 -5 -4 -3 -2 -1\n",
    "print(my_name[0])  # Imprime 'S'\n",
    "print(my_name[8]) # Imprime 'n'\n",
    "print(my_name[-1])  # Imprime 'n'\n",
    "print(my_name[-9])  # Imprime 'S'"
   ]
  },
  {
   "cell_type": "markdown",
   "metadata": {},
   "source": [
    "### ¿Qué pasa si intentas acceder a un índice que no existe en Python?\n",
    "Si intentas acceder a un índice fuera del rango de la cadena, Python arrojará un IndexError:"
   ]
  },
  {
   "cell_type": "code",
   "execution_count": 5,
   "metadata": {},
   "outputs": [
    {
     "ename": "IndexError",
     "evalue": "string index out of range",
     "output_type": "error",
     "traceback": [
      "\u001b[0;31m---------------------------------------------------------------------------\u001b[0m",
      "\u001b[0;31mIndexError\u001b[0m                                Traceback (most recent call last)",
      "Cell \u001b[0;32mIn[5], line 1\u001b[0m\n\u001b[0;32m----> 1\u001b[0m \u001b[38;5;28mprint\u001b[39m(\u001b[43mmy_name\u001b[49m\u001b[43m[\u001b[49m\u001b[38;5;241;43m-\u001b[39;49m\u001b[38;5;241;43m10\u001b[39;49m\u001b[43m]\u001b[49m)\n",
      "\u001b[0;31mIndexError\u001b[0m: string index out of range"
     ]
    }
   ],
   "source": [
    "print(my_name[-10])"
   ]
  },
  {
   "cell_type": "markdown",
   "metadata": {},
   "source": [
    "### ¿Cómo se concatenan cadenas?\n",
    "Puedes concatenar cadenas utilizando el operador + y repetirlas con el operador *:"
   ]
  },
  {
   "cell_type": "code",
   "execution_count": 6,
   "metadata": {},
   "outputs": [
    {
     "name": "stdout",
     "output_type": "stream",
     "text": [
      "Sebastian Bernal\n",
      "SebastianSebastianSebastianSebastianSebastian\n"
     ]
    }
   ],
   "source": [
    "first_name = 'Sebastian'\n",
    "last_name = 'Bernal'\n",
    "full_name = first_name + ' ' + last_name\n",
    "print(full_name)  # Imprime 'Sebastian Bernal'\n",
    "\n",
    "print(my_name * 5)  # Imprime 'SebastianSebastianSebastianSebastianSebastian'"
   ]
  },
  {
   "cell_type": "markdown",
   "metadata": {},
   "source": [
    "### ¿Cómo se consultan la longitud y otras operaciones en cadenas?\n",
    "Para obtener la longitud de una cadena, se usa la función len:"
   ]
  },
  {
   "cell_type": "code",
   "execution_count": 7,
   "metadata": {},
   "outputs": [
    {
     "name": "stdout",
     "output_type": "stream",
     "text": [
      "9\n"
     ]
    }
   ],
   "source": [
    "print(len(my_name)) # Imprime 9"
   ]
  },
  {
   "cell_type": "markdown",
   "metadata": {},
   "source": [
    "Además, las cadenas tienen métodos específicos como lower(), upper(), y strip():"
   ]
  },
  {
   "cell_type": "code",
   "execution_count": 10,
   "metadata": {},
   "outputs": [
    {
     "name": "stdout",
     "output_type": "stream",
     "text": [
      "sebastian\n",
      "SEBASTIAN\n",
      "Bernal    Cuesta\n"
     ]
    }
   ],
   "source": [
    "last_name = '     Bernal    Cuesta  '\n",
    "print(my_name.lower())  # Imprime 'sebatian'\n",
    "print(my_name.upper())  # Imprime 'SEBASTIAN'\n",
    "print(last_name.strip())  # Elimina espacios en blanco al principio y al final"
   ]
  },
  {
   "cell_type": "markdown",
   "metadata": {},
   "source": [
    "### ¿Qué importancia tienen las cadenas en áreas avanzadas como el NLP?\n",
    "El manejo de cadenas es esencial en NLP, donde grandes cantidades de texto deben ser limpiadas y procesadas. Métodos como strip(), lower(), y replace() ayudan a preparar los datos para análisis más complejos."
   ]
  },
  {
   "cell_type": "markdown",
   "metadata": {},
   "source": [
    "### Recursos Clase\n",
    "Métodos de las cadenas\n",
    "https://docs.python.org/es/3/library/stdtypes.html#string-methods"
   ]
  }
 ],
 "metadata": {
  "kernelspec": {
   "display_name": "python_platzi",
   "language": "python",
   "name": "python3"
  },
  "language_info": {
   "codemirror_mode": {
    "name": "ipython",
    "version": 3
   },
   "file_extension": ".py",
   "mimetype": "text/x-python",
   "name": "python",
   "nbconvert_exporter": "python",
   "pygments_lexer": "ipython3",
   "version": "3.13.0"
  }
 },
 "nbformat": 4,
 "nbformat_minor": 2
}
