{
 "cells": [
  {
   "cell_type": "markdown",
   "metadata": {},
   "source": [
    "# Clase 13: Aplicación de Matrices"
   ]
  },
  {
   "cell_type": "markdown",
   "metadata": {},
   "source": [
    "Las matrices son una herramienta fundamental en muchas áreas de la computación y las matemáticas.\n",
    "\n",
    "En Python, podemos usar listas dentro de listas para representar matrices bidimensionales (2D).\n",
    "\n",
    "Hoy, vamos a explorar varias aplicaciones prácticas de las matrices y cómo estas estructuras pueden ser usadas para representar tableros de juego."
   ]
  },
  {
   "cell_type": "markdown",
   "metadata": {},
   "source": [
    "## Representación de Tableros de Juego"
   ]
  },
  {
   "cell_type": "markdown",
   "metadata": {},
   "source": [
    "Las matrices son ideales para representar tableros de juego en programación, como tableros de ajedrez, damas y otros juegos de mesa.\n",
    "\n",
    "Usar matrices para estos fines permite manejar fácilmente la disposición de las piezas y las reglas del juego."
   ]
  },
  {
   "cell_type": "markdown",
   "metadata": {},
   "source": [
    "## Ejemplo: Tablero de Ajedrez"
   ]
  },
  {
   "cell_type": "markdown",
   "metadata": {},
   "source": [
    "Un tablero de ajedrez es una matriz de 8x8. En vez de representar solo las casillas blancas y negras, podemos representar las piezas de ajedrez.\n",
    "\n",
    "Usaremos letras para representar las piezas: P para peón, R para torre, N para caballo (knight), B para alfil, Q para reina y K para rey.\n",
    "\n",
    "Las piezas negras se representan con letras minúsculas y las blancas con letras mayúsculas."
   ]
  },
  {
   "cell_type": "code",
   "execution_count": 1,
   "metadata": {},
   "outputs": [
    {
     "name": "stdout",
     "output_type": "stream",
     "text": [
      "[['r', 'n', 'b', 'q', 'k', 'b', 'n', 'r'], ['p', 'p', 'p', 'p', 'p', 'p', 'p', 'p'], [0, 0, 0, 0, 0, 0, 0, 0], [0, 0, 0, 0, 0, 0, 0, 0], [0, 0, 0, 0, 0, 0, 0, 0], [0, 0, 0, 0, 0, 0, 0, 0], ['P', 'P', 'P', 'P', 'P', 'P', 'P', 'P'], ['R', 'N', 'B', 'Q', 'K', 'B', 'N', 'R']]\n"
     ]
    }
   ],
   "source": [
    "chess_board = [\n",
    "    ['r', 'n', 'b', 'q', 'k', 'b', 'n', 'r'],\n",
    "    ['p', 'p', 'p', 'p', 'p', 'p', 'p', 'p'],\n",
    "    [0, 0, 0, 0, 0, 0, 0, 0],\n",
    "    [0, 0, 0, 0, 0, 0, 0, 0],\n",
    "    [0, 0, 0, 0, 0, 0, 0, 0],\n",
    "    [0, 0, 0, 0, 0, 0, 0, 0],\n",
    "    ['P', 'P', 'P', 'P', 'P', 'P', 'P', 'P'],\n",
    "    ['R', 'N', 'B', 'Q', 'K', 'B', 'N', 'R']\n",
    "]\n",
    "\n",
    "print(chess_board)"
   ]
  },
  {
   "cell_type": "markdown",
   "metadata": {},
   "source": [
    "En este ejemplo, el 0 representa una casilla vacía."
   ]
  },
  {
   "cell_type": "markdown",
   "metadata": {},
   "source": [
    "### Movimiento de un Caballo"
   ]
  },
  {
   "cell_type": "markdown",
   "metadata": {},
   "source": [
    "En ajedrez, los caballos (N para blanco y n para negro) se mueven en forma de “L”.\n",
    "\n",
    "Esto significa que pueden moverse dos casillas en una dirección y luego una casilla perpendicularmente, o una casilla en una dirección y luego dos casillas perpendicularmente.\n",
    "\n",
    "Por ejemplo, si el caballo blanco está en la posición (7, 1) (segunda casilla de la última fila), las posiciones posibles a las que puede moverse son:\n",
    "\n",
    "* (5, 0)\n",
    "* (5, 2)\n",
    "* (6, 3)"
   ]
  },
  {
   "cell_type": "markdown",
   "metadata": {},
   "source": [
    "Es importante verificar que estas posiciones estén dentro de los límites del tablero y no contengan piezas blancas.\n",
    "\n",
    "Si movemos el caballo de (7, 1) a (5, 2), el tablero se vería así:"
   ]
  },
  {
   "cell_type": "code",
   "execution_count": 2,
   "metadata": {},
   "outputs": [
    {
     "name": "stdout",
     "output_type": "stream",
     "text": [
      "[['r', 'n', 'b', 'q', 'k', 'b', 'n', 'r'], ['p', 'p', 'p', 'p', 'p', 'p', 'p', 'p'], [0, 0, 0, 0, 0, 0, 0, 0], [0, 0, 0, 0, 0, 0, 0, 0], [0, 0, 0, 0, 0, 0, 0, 0], [0, 0, 'N', 0, 0, 0, 0, 0], ['P', 'P', 'P', 'P', 'P', 'P', 'P', 'P'], ['R', 0, 'B', 'Q', 'K', 'B', 'N', 'R']]\n"
     ]
    }
   ],
   "source": [
    "chess_board[7][1] = 0  # Casilla original del caballo ahora está vacía\n",
    "chess_board[5][2] = 'N'  # Nueva posición del caballo\n",
    "\n",
    "print(chess_board)"
   ]
  },
  {
   "cell_type": "markdown",
   "metadata": {},
   "source": [
    "## Ejemplo: Tablero de Damas"
   ]
  },
  {
   "cell_type": "markdown",
   "metadata": {},
   "source": [
    "Un tablero de damas también es una matriz de 8x8, pero además de las casillas alternas, debemos representar las piezas de los dos jugadores."
   ]
  },
  {
   "cell_type": "code",
   "execution_count": 3,
   "metadata": {},
   "outputs": [
    {
     "name": "stdout",
     "output_type": "stream",
     "text": [
      "[[0, 'b', 0, 'b', 0, 'b', 0, 'b'], ['b', 0, 'b', 0, 'b', 0, 'b', 0], [0, 'b', 0, 'b', 0, 'b', 0, 'b'], [0, 0, 0, 0, 0, 0, 0, 0], [0, 0, 0, 0, 0, 0, 0, 0], ['w', 0, 'w', 0, 'w', 0, 'w', 0], [0, 'w', 0, 'w', 0, 'w', 0, 'w'], ['w', 0, 'w', 0, 'w', 0, 'w', 0]]\n"
     ]
    }
   ],
   "source": [
    "checkers_board = [\n",
    "    [0, 'b', 0, 'b', 0, 'b', 0, 'b'],\n",
    "    ['b', 0, 'b', 0, 'b', 0, 'b', 0],\n",
    "    [0, 'b', 0, 'b', 0, 'b', 0, 'b'],\n",
    "    [0, 0, 0, 0, 0, 0, 0, 0],\n",
    "    [0, 0, 0, 0, 0, 0, 0, 0],\n",
    "    ['w', 0, 'w', 0, 'w', 0, 'w', 0],\n",
    "    [0, 'w', 0, 'w', 0, 'w', 0, 'w'],\n",
    "    ['w', 0, 'w', 0, 'w', 0, 'w', 0]\n",
    "]\n",
    "\n",
    "print(checkers_board)"
   ]
  },
  {
   "cell_type": "markdown",
   "metadata": {},
   "source": [
    "En este ejemplo, el 0 representa una casilla vacía, 'w' representa una pieza blanca, y 'b' representa una pieza negra.\n",
    "\n",
    "Las filas superiores e inferiores están llenas de piezas en sus posiciones iniciales, mientras que las filas centrales están vacías."
   ]
  },
  {
   "cell_type": "markdown",
   "metadata": {},
   "source": [
    "## Aplicación de Matrices a Imágenes"
   ]
  },
  {
   "cell_type": "markdown",
   "metadata": {},
   "source": [
    "Las matrices también son esenciales para la representación y manipulación de imágenes.\n",
    "\n",
    "Cada píxel de una imagen en escala de grises se puede representar como un valor en una matriz, donde cada valor varía del 0 (negro) al 255 (blanco)."
   ]
  },
  {
   "cell_type": "markdown",
   "metadata": {},
   "source": [
    "## Ejemplo: Representación de una Imagen en Escala de Grises"
   ]
  },
  {
   "cell_type": "markdown",
   "metadata": {},
   "source": [
    "Imaginemos una matriz de 5x5 que representa una imagen en escala de grises con un simple patrón."
   ]
  },
  {
   "cell_type": "code",
   "execution_count": 4,
   "metadata": {},
   "outputs": [
    {
     "name": "stdout",
     "output_type": "stream",
     "text": [
      "[[255, 0, 0, 0, 255], [0, 255, 0, 255, 0], [0, 0, 255, 0, 0], [0, 255, 0, 255, 0], [255, 0, 0, 0, 255]]\n"
     ]
    }
   ],
   "source": [
    "image = [\n",
    "    [255, 0, 0, 0, 255],\n",
    "    [0, 255, 0, 255, 0],\n",
    "    [0, 0, 255, 0, 0],\n",
    "    [0, 255, 0, 255, 0],\n",
    "    [255, 0, 0, 0, 255]\n",
    "]\n",
    "\n",
    "print(image)"
   ]
  },
  {
   "cell_type": "markdown",
   "metadata": {},
   "source": [
    "En esta matriz, el 255 representa píxeles blancos y el 0 representa píxeles negros.\n",
    "\n",
    "Este patrón podría visualizarse como una “X” blanca sobre un fondo negro si se dibujara."
   ]
  },
  {
   "cell_type": "markdown",
   "metadata": {},
   "source": [
    "## Aplicaciones en Otros Campos"
   ]
  },
  {
   "cell_type": "markdown",
   "metadata": {},
   "source": [
    "Las matrices se utilizan en muchos otros campos además de los juegos y las imágenes.\n",
    "\n",
    "Aquí hay algunos ejemplos:\n",
    "\n",
    "* **Análisis de Datos:** Las matrices se utilizan para almacenar y manipular grandes conjuntos de datos, realizar cálculos estadísticos y análisis de datos.\n",
    "* **Inteligencia Artificial y Machine Learning:** Las matrices son esenciales para representar datos de entrada y salida, pesos de redes neuronales y otros parámetros en algoritmos de aprendizaje automático.\n",
    "* **Computación Científica:** Las matrices se utilizan para resolver ecuaciones lineales, realizar simulaciones y modelar fenómenos científicos.\n",
    "* **Gráficos por Computadora:** Las matrices se utilizan para representar y transformar objetos en gráficos 2D y 3D."
   ]
  },
  {
   "cell_type": "markdown",
   "metadata": {},
   "source": [
    "Las matrices son una herramienta poderosa que no solo facilita la representación de datos complejos, sino que también permite realizar operaciones y transformaciones avanzadas de manera eficiente.\n",
    "\n",
    "Al dominar el uso de matrices en Python, puedes abrir la puerta a un mundo de posibilidades en diversos campos de la ciencia, la ingeniería y la tecnología."
   ]
  }
 ],
 "metadata": {
  "kernelspec": {
   "display_name": "python_platzi",
   "language": "python",
   "name": "python3"
  },
  "language_info": {
   "codemirror_mode": {
    "name": "ipython",
    "version": 3
   },
   "file_extension": ".py",
   "mimetype": "text/x-python",
   "name": "python",
   "nbconvert_exporter": "python",
   "pygments_lexer": "ipython3",
   "version": "3.13.0"
  }
 },
 "nbformat": 4,
 "nbformat_minor": 2
}
