{
 "cells": [
  {
   "cell_type": "markdown",
   "metadata": {},
   "source": [
    "# Clase 6: Enteros, Flotantes y Booleanos\n",
    "Comprender los diferentes tipos de datos en Python es crucial para la programación eficiente. En Python, cada variable pertenece a una clase o “class”, y su tipo puede ser identificado usando la función type()."
   ]
  },
  {
   "cell_type": "markdown",
   "metadata": {},
   "source": [
    "### ¿Qué es un tipo de dato en Python?\n",
    "En Python, un tipo de dato se refiere a la clase de datos que una variable puede contener.\n",
    "\n",
    "Esto se puede verificar con la función type(), que devuelve la clase del valor contenido en la variable.\n",
    "\n",
    "Por ejemplo, type('Hello') devuelve class 'str', indicando que el dato es una cadena de texto."
   ]
  },
  {
   "cell_type": "code",
   "execution_count": 7,
   "metadata": {},
   "outputs": [
    {
     "name": "stdout",
     "output_type": "stream",
     "text": [
      "<class 'int'>\n",
      "<class 'float'>\n"
     ]
    }
   ],
   "source": [
    "x = 10\n",
    "y = 5.678\n",
    "\n",
    "print(type(x))\n",
    "print(type(y))"
   ]
  },
  {
   "cell_type": "markdown",
   "metadata": {},
   "source": [
    "### ¿Cómo se manejan los números enteros en Python?\n",
    "\n",
    "Los números enteros en Python pertenecen a la clase int, que se utiliza para representar números sin parte decimal.\n",
    "\n",
    "Al declarar una variable como x = 5, se puede comprobar su tipo con type(x), que devolverá int.\n",
    "\n",
    "Esta clase es ideal para operaciones aritméticas básicas."
   ]
  },
  {
   "cell_type": "markdown",
   "metadata": {},
   "source": [
    "### ¿Qué son los números flotantes y cómo se usan?\n",
    "\n",
    "Los números flotantes pertenecen a la clase float y se utilizan para representar números con decimales\n",
    "\n",
    "Por ejemplo, y = 5.0 es un número flotante.\n",
    "\n",
    "Para operaciones con números muy grandes o pequeños, se puede usar la notación científica, como:\n",
    "* z = 1e6\n",
    "* que representa 1 multiplicado por 10 elevado a 6.\n",
    "\n",
    "Python maneja automáticamente las operaciones aritméticas con flotantes devolviendo resultados en float."
   ]
  },
  {
   "cell_type": "code",
   "execution_count": 4,
   "metadata": {},
   "outputs": [
    {
     "name": "stdout",
     "output_type": "stream",
     "text": [
      "1200000.0\n",
      "1.2e-06\n",
      "1200000.0000012\n",
      "<class 'float'>\n"
     ]
    }
   ],
   "source": [
    "a = 1.2E6\n",
    "z = 1.2E-6\n",
    "\n",
    "print(a)\n",
    "print(z)\n",
    "print(a + z)\n",
    "print(type(a + z))"
   ]
  },
  {
   "cell_type": "markdown",
   "metadata": {},
   "source": [
    "### ¿Cómo se utiliza la notación científica en Python?\n",
    "\n",
    "La notación científica se emplea para representar números muy grandes o muy pequeños de manera compacta.\n",
    "\n",
    "Por ejemplo:\n",
    "* 1e6 representa 1,000,000\n",
    "* 1e-6 representa 0.000001.\n",
    "\n",
    "Esta notación es útil en cálculos científicos y financieros, donde los números pueden variar significativamente en magnitud."
   ]
  },
  {
   "cell_type": "markdown",
   "metadata": {},
   "source": [
    "### ¿Cómo se manejan los booleanos en Python?\n",
    "\n",
    "Los booleanos en Python pertenecen a la clase bool y pueden tomar uno de dos valores: True o False.\n",
    "\n",
    "Estos valores son fundamentales para las operaciones lógicas y las estructuras de control de flujo, como las condicionales.\n",
    "\n",
    "Al declarar una variable como isTrue = True, se puede comprobar su tipo con type(isTrue), que devolverá bool."
   ]
  },
  {
   "cell_type": "code",
   "execution_count": 5,
   "metadata": {},
   "outputs": [
    {
     "name": "stdout",
     "output_type": "stream",
     "text": [
      "True\n",
      "<class 'bool'>\n"
     ]
    }
   ],
   "source": [
    "is_true = True\n",
    "is_false = False\n",
    "print(is_true)\n",
    "print(type(is_true))"
   ]
  },
  {
   "cell_type": "markdown",
   "metadata": {},
   "source": [
    "### ¿Qué importancia tienen los tipos de datos en las operaciones matemáticas?\n",
    "\n",
    "Es crucial entender los tipos de datos al realizar operaciones matemáticas en Python.\n",
    "\n",
    "Las operaciones entre enteros (int) y flotantes (float) devuelven resultados en float.\n",
    "\n",
    "Por ejemplo, sumar un entero y un flotante, como x + y, devolverá un resultado en float.\n",
    "\n",
    "Este comportamiento es importante para evitar errores cuando el usuario ingresa un tipo de dato inesperado."
   ]
  },
  {
   "cell_type": "markdown",
   "metadata": {},
   "source": [
    "### ¿Cómo se usan los comentarios en Python?\n",
    "\n",
    "Los comentarios en Python se crean utilizando el símbolo #, y se usan para anotar y explicar el código.\n",
    "\n",
    "Las líneas comentadas no son ejecutadas por Python.\n",
    "\n",
    "Por ejemplo, # Este es un comentario es una línea que Python ignora durante la ejecución."
   ]
  },
  {
   "cell_type": "code",
   "execution_count": null,
   "metadata": {},
   "outputs": [],
   "source": [
    "# Esto es un comentario\n",
    "'''\n",
    "Esto tambien es un comentario\n",
    "'''"
   ]
  },
  {
   "cell_type": "markdown",
   "metadata": {},
   "source": [
    "### ¿Qué operaciones matemáticas básicas se pueden hacer en Python?\n",
    "\n",
    "En Python se pueden realizar operaciones matemáticas básicas como suma, resta, multiplicación y división.\n",
    "\n",
    "Por ejemplo, se puede sumar dos variables x e y con x + y. Si se utilizan dos números flotantes, el resultado será también un número flotante."
   ]
  },
  {
   "cell_type": "markdown",
   "metadata": {},
   "source": [
    "### Recursos Clase\n",
    "Tipos numéricos - int, float, complex\n",
    "https://docs.python.org/es/3/library/stdtypes.html#numeric-types-int-float-complex"
   ]
  }
 ],
 "metadata": {
  "kernelspec": {
   "display_name": "python_platzi",
   "language": "python",
   "name": "python3"
  },
  "language_info": {
   "codemirror_mode": {
    "name": "ipython",
    "version": 3
   },
   "file_extension": ".py",
   "mimetype": "text/x-python",
   "name": "python",
   "nbconvert_exporter": "python",
   "pygments_lexer": "ipython3",
   "version": "3.13.0"
  }
 },
 "nbformat": 4,
 "nbformat_minor": 2
}
